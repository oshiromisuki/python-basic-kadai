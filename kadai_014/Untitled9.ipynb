{
  "nbformat": 4,
  "nbformat_minor": 0,
  "metadata": {
    "colab": {
      "provenance": []
    },
    "kernelspec": {
      "name": "python3",
      "display_name": "Python 3"
    },
    "language_info": {
      "name": "python"
    }
  },
  "cells": [
    {
      "cell_type": "code",
      "execution_count": 3,
      "metadata": {
        "colab": {
          "base_uri": "https://localhost:8080/"
        },
        "id": "Q7gSV4f0iiOU",
        "outputId": "af66b9a9-e70c-4ed7-bdc5-5f25eca72760"
      },
      "outputs": [
        {
          "output_type": "stream",
          "name": "stdout",
          "text": [
            "330.0\n"
          ]
        }
      ],
      "source": [
        "price1 = 100\n",
        "price2 = 200\n",
        "tax = 1.1  # グローバルスコープに定義\n",
        "\n",
        "def total():\n",
        "    return price1 + price2  # price1, price2 はグローバル変数\n",
        "\n",
        "print(total() * tax)  # tax もグローバル変数なのでエラーにならない\n"
      ]
    }
  ]
}