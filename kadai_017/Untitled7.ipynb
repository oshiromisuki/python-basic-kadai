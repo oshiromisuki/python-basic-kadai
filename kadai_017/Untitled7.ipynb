{
  "nbformat": 4,
  "nbformat_minor": 0,
  "metadata": {
    "colab": {
      "provenance": []
    },
    "kernelspec": {
      "name": "python3",
      "display_name": "Python 3"
    },
    "language_info": {
      "name": "python"
    }
  },
  "cells": [
    {
      "cell_type": "code",
      "execution_count": 1,
      "metadata": {
        "colab": {
          "base_uri": "https://localhost:8080/"
        },
        "id": "s-XEytHzXj6n",
        "outputId": "bdf1132f-81f9-46d6-e875-14eba9bb2210"
      },
      "outputs": [
        {
          "output_type": "stream",
          "name": "stdout",
          "text": [
            "Name: 侍太郎, Age: 30\n"
          ]
        }
      ],
      "source": [
        "class Human:\n",
        "    def __init__(self, name, age):\n",
        "        self.name = name\n",
        "        self.age = age\n",
        "\n",
        "    def printinfo(self):\n",
        "        print(f\"Name: {self.name}, Age: {self.age}\")\n",
        "\n",
        "# Humanクラスのインスタンスを作成\n",
        "human = Human(\"侍太郎\", 30)\n",
        "\n",
        "# 属性にアクセスし、値を出力する\n",
        "human.printinfo()\n"
      ]
    },
    {
      "cell_type": "code",
      "source": [
        "!rm /etc/localtime\n",
        "!ln -s /usr/share/zoneinfo/Asia/Tokyo /etc/localtime\n",
        "!date\n"
      ],
      "metadata": {
        "colab": {
          "base_uri": "https://localhost:8080/"
        },
        "id": "pcniXL1rdnVz",
        "outputId": "dfde7c0f-279b-478f-a767-62e6d4e7ddd1"
      },
      "execution_count": 1,
      "outputs": [
        {
          "output_type": "stream",
          "name": "stdout",
          "text": [
            "Fri Dec 13 07:01:06 PM JST 2024\n"
          ]
        }
      ]
    },
    {
      "cell_type": "code",
      "source": [
        "# timeモジュールをインポート\n",
        "import time\n",
        "\n",
        "# 現在の日時を指定したフォーマットで出力する\n",
        "print(time.strftime(\"%Y年%m月%d日%H時%M分%S秒\", time.localtime()))\n"
      ],
      "metadata": {
        "colab": {
          "base_uri": "https://localhost:8080/"
        },
        "id": "XJIBA9E_dxUo",
        "outputId": "1d7ca5d8-e2d6-4567-b16d-d08f1a9f5040"
      },
      "execution_count": 2,
      "outputs": [
        {
          "output_type": "stream",
          "name": "stdout",
          "text": [
            "2024年12月13日19時01分18秒\n"
          ]
        }
      ]
    },
    {
      "cell_type": "code",
      "source": [
        "class Human:\n",
        "    def __init__(self, name, age):\n",
        "        self.name = name\n",
        "        self.age = age\n",
        "\n",
        "    def check_adult(self):\n",
        "        if self.age >= 20:\n",
        "            return f\"{self.name}さんは大人です。\"\n",
        "        else:\n",
        "            return f\"{self.name}さんは大人ではありません。\"\n",
        "\n",
        "def create_human_list(data_list):\n",
        "    human_list = []\n",
        "    for data in data_list:\n",
        "        human = Human(name=data[\"name\"], age=data[\"age\"])\n",
        "        human_list.append(human)\n",
        "    return human_list\n",
        "\n",
        "def print_adult_status(human_list):\n",
        "    for human in human_list:\n",
        "        print(human.check_adult())\n",
        "\n",
        "# インスタンス生成に使うデータリスト\n",
        "data_list = [\n",
        "    {\"name\": \"一郎\", \"age\": 25},\n",
        "    {\"name\": \"次郎\", \"age\": 20},\n",
        "    {\"name\": \"三郎\", \"age\": 15}\n",
        "]\n",
        "\n",
        "# Humanインスタンスを生成し、リストに追加\n",
        "humans = create_human_list(data_list)\n",
        "\n",
        "# 各インスタンスに対してcheck_adultメソッドを実行し結果を表示\n",
        "print_adult_status(humans)\n"
      ],
      "metadata": {
        "colab": {
          "base_uri": "https://localhost:8080/"
        },
        "id": "glsb82wsd0dj",
        "outputId": "2e87a07c-e892-4a5e-9e37-fbe4bae5ba40"
      },
      "execution_count": 1,
      "outputs": [
        {
          "output_type": "stream",
          "name": "stdout",
          "text": [
            "一郎さんは大人です。\n",
            "次郎さんは大人です。\n",
            "三郎さんは大人ではありません。\n"
          ]
        }
      ]
    }
  ]
}