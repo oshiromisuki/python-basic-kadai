{
  "nbformat": 4,
  "nbformat_minor": 0,
  "metadata": {
    "colab": {
      "provenance": []
    },
    "kernelspec": {
      "name": "python3",
      "display_name": "Python 3"
    },
    "language_info": {
      "name": "python"
    }
  },
  "cells": [
    {
      "cell_type": "code",
      "execution_count": 1,
      "metadata": {
        "colab": {
          "base_uri": "https://localhost:8080/"
        },
        "id": "nbECxvRgc8qL",
        "outputId": "9cc9ddc9-d701-4415-9781-429e27458ac0"
      },
      "outputs": [
        {
          "output_type": "stream",
          "name": "stdout",
          "text": [
            "75.0 cm²\n"
          ]
        }
      ],
      "source": [
        "top_side = 10\n",
        "bottom_side = 20\n",
        "height = 5\n",
        "\n",
        "# 台形の面積を計算\n",
        "area = ((top_side + bottom_side) * height) / 2\n",
        "\n",
        "# 結果を平方センチメートルで表示\n",
        "print(str(area) + \" cm²\")\n"
      ]
    }
  ]
}